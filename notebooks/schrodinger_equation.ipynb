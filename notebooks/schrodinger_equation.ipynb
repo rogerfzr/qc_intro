{
 "cells": [
  {
   "cell_type": "markdown",
   "metadata": {},
   "source": [
    "# Schrödinger's Equation\n",
    "\n",
    "One of the most important governing equations in all of physics. If you do anything to do with quantum mechanics, chances are you'll be dealing with Schrödinger's Equation in one form or another.\n",
    "\n",
    "The Time Dependent Schrödinger Equation (TDSE) in one (spatial) dimension is written:\n",
    "\n",
    "$$ i \\hbar \\frac{\\partial}{\\partial t} \\Psi (x, t) = \\hat{\\mathbf{H}} \\Psi (x,t) $$\n",
    "\n",
    "where $\\hat{\\mathbf{H}}$ is the hamiltonian defined as $\\hat{\\mathbf{H}} = - \\frac{\\hbar^2}{2m} \\frac{\\partial^2}{\\partial x^2} + V(x,t) $ and $\\Psi(x,t)$ is the wave function.\n",
    "\n",
    "In general, this is not an easy partial differential equation (PDE) to solve. Fortunately, with a few mild assumptions, we can simplify the equation to the Time Independent Schrödinger Equation (TISE):\n",
    "\n",
    "First we assume our potential energy function is independent of time $V(x,t) = V(x)$. Then look for solutions of the form $\\Psi(x,t) = \\psi(x) \\phi(t)$ for some $\\psi(x)$ and $\\phi(t)$.\n",
    "\n",
    "$$ \\hat{\\mathbf{H}} \\psi(x) = E \\psi(x) $$\n"
   ]
  },
  {
   "cell_type": "markdown",
   "metadata": {},
   "source": [
    "### Problem 1: Solving half of the problem for good\n",
    "\n",
    "Given only the assumptions and notation above, solve the TDSE for $\\phi(t)$ for all possible $V(x)$.\n",
    "\n",
    "Hint: plug in $\\Psi(x,t)=\\psi(x)\\phi(t)$ to the TDSE, apply the TISE, and solve the resulting first order ordinary differential equation."
   ]
  },
  {
   "cell_type": "markdown",
   "metadata": {},
   "source": [
    "[Your answer here]"
   ]
  },
  {
   "cell_type": "markdown",
   "metadata": {},
   "source": [
    "## Solving Schrödinger's Equation Numerically\n",
    "\n",
    "The TISE is nothing more than an eigenvalue equation, so if we can write our hamiltonian as a matrix, then all we have to is solve for the eigenvalues and eigenvectors/eigenfunctions and we'll have $\\psi(x)$, and since you already found $\\phi(t)$, then we'll know everything we could possibly want to about our system!\n",
    "\n",
    "If you hear \"numerically\" in the context of python, you know what's coming... some `numpy` magic."
   ]
  },
  {
   "cell_type": "code",
   "execution_count": null,
   "metadata": {},
   "outputs": [],
   "source": [
    "import numpy as np\n",
    "%matplotlib notebook\n",
    "import matplotlib.pyplot as plt"
   ]
  },
  {
   "cell_type": "markdown",
   "metadata": {},
   "source": [
    "There are two especially useful `numpy` functions we'll need here:`linalg.eig` and `eye`."
   ]
  },
  {
   "cell_type": "code",
   "execution_count": null,
   "metadata": {},
   "outputs": [],
   "source": [
    "np.eye?"
   ]
  },
  {
   "cell_type": "code",
   "execution_count": null,
   "metadata": {},
   "outputs": [],
   "source": [
    "np.linalg.eig?"
   ]
  },
  {
   "cell_type": "markdown",
   "metadata": {},
   "source": [
    "The trick to representing our hamiltonian as a matrix is discretization. See details in the lecture notes, but the notation below should be very similar.\n",
    "\n",
    "We'll be simulating a toy system with arbitrary units"
   ]
  },
  {
   "cell_type": "code",
   "execution_count": null,
   "metadata": {},
   "outputs": [],
   "source": [
    "N = 100\n",
    "L = 100\n",
    "\n",
    "def V(x): # Return the potential energy given the position of each grid element\n",
    "    return 0 * x # In this case, we are setting the potential energy to zero.\n",
    "\n",
    "eta = 1\n",
    "m = 1\n",
    "q = 1"
   ]
  },
  {
   "cell_type": "code",
   "execution_count": null,
   "metadata": {},
   "outputs": [],
   "source": [
    "X = np.linspace(0,L,num=N) - L/2\n",
    "a = X[1] - X[0] # grid spacing\n",
    "\n",
    "\n",
    "\n",
    "t = -eta**2 / (2 * m * a**2)\n",
    "eps = -2*t + q * V(X)"
   ]
  },
  {
   "cell_type": "code",
   "execution_count": null,
   "metadata": {},
   "outputs": [],
   "source": [
    "H = t*np.eye(N, k=-1) + eps*np.eye(N) + t*np.eye(N, k=1) # discretized hamiltonian"
   ]
  },
  {
   "cell_type": "markdown",
   "metadata": {},
   "source": [
    "If you're ever curious about what your matrix actually looks like, you can plot it using `matshow`. And mouse over elements to see their values. Note that our hamitonian has offdiagonal elements, where do they come from and why do we need those?"
   ]
  },
  {
   "cell_type": "markdown",
   "metadata": {},
   "source": [
    "[Your answer here]"
   ]
  },
  {
   "cell_type": "code",
   "execution_count": null,
   "metadata": {},
   "outputs": [],
   "source": [
    "plt.matshow(H)"
   ]
  },
  {
   "cell_type": "markdown",
   "metadata": {},
   "source": [
    "Now let's actually solve the TISE for the energies and wavefunctions using `linalg.eig`.\n",
    "\n",
    "That brings up an interesting question: We only have one equation, but we are solving this one equation for two unknowns (the wavefunction, and the energy), thinking back to linear algebra, shouldn't this problem be underdetermined? That is to say, how is it that we can use a single equation to solve for both the wavefunction and energy?"
   ]
  },
  {
   "cell_type": "markdown",
   "metadata": {},
   "source": [
    "[Your answer here]"
   ]
  },
  {
   "cell_type": "code",
   "execution_count": null,
   "metadata": {},
   "outputs": [],
   "source": [
    "vals, vecs = np.linalg.eig(H)"
   ]
  },
  {
   "cell_type": "markdown",
   "metadata": {},
   "source": [
    "Unfortunately `linalg.eig` does not return the eigenvalues/vectors sorted, but that can be fixed with a little `numpy` magic. Make sure you understand how to two lines below work - tricks like these can dramatically speed up your work.\n",
    "Also, since our `vecs` variable holds column vectors we can flip those to row vectors in the last line. We also have to normalize our wavefunctions (given the grid spacing that we were using)."
   ]
  },
  {
   "cell_type": "code",
   "execution_count": null,
   "metadata": {},
   "outputs": [],
   "source": [
    "order = np.argsort(vals)\n",
    "vals, vecs = vals[order], vecs[:, order]\n",
    "vecs = vecs.T\n",
    "vecs /= a"
   ]
  },
  {
   "cell_type": "markdown",
   "metadata": {},
   "source": [
    "Now we have the eigenvalues (which correspond to the energies of each state) and the eigenvectors (which are the states, aka wavefunctions).\n",
    "\n",
    "Before plotting the energy spectrum below, what do you expect the energies will look like, given that our potential energy  is zero accross the entire wire (V=0)?"
   ]
  },
  {
   "cell_type": "markdown",
   "metadata": {},
   "source": [
    "[Your answer here]"
   ]
  },
  {
   "cell_type": "code",
   "execution_count": null,
   "metadata": {},
   "outputs": [],
   "source": [
    "plt.figure()\n",
    "plt.plot(vals)\n",
    "plt.title('Energy spectrum of our solutions')\n",
    "plt.xlabel('Level')\n",
    "plt.ylabel('Energy (arb. units)')"
   ]
  },
  {
   "cell_type": "markdown",
   "metadata": {},
   "source": [
    "Does this spectrum look as expected? If not, why not?"
   ]
  },
  {
   "cell_type": "markdown",
   "metadata": {},
   "source": [
    "[Your answer here]"
   ]
  },
  {
   "cell_type": "markdown",
   "metadata": {},
   "source": [
    "Finally we can plot the first few wavefunctions and corresponding energies we found. But you already know what to expect, right?"
   ]
  },
  {
   "cell_type": "code",
   "execution_count": null,
   "metadata": {},
   "outputs": [],
   "source": [
    "fig, axes = plt.subplots(5, sharex=True, sharey=True)\n",
    "plt.sca(axes[0])\n",
    "plt.title('Wavefunctions of a Particle in a box')\n",
    "for i, (ax, psi, E) in enumerate(zip(axes, vecs, vals)):\n",
    "    plt.sca(ax)\n",
    "    plt.ylabel('Psi {}'.format(i))\n",
    "    plt.plot(X, psi)\n",
    "    #plt.fill_between(X, psi, alpha=0.3)\n",
    "    print('E_{} = {:.4f}'.format(i, E))\n",
    "plt.xlabel('x')"
   ]
  },
  {
   "cell_type": "markdown",
   "metadata": {},
   "source": [
    "While this is theoretically all fine and good, being learned in the ways of quantum mechanics we know that the wavefunction is not directly measurable. Instead, if we measure for example the position of our particle, the actual outcome of our measurement will be one of the eigenvalues of the position operator. Fortunately, we have been working in the position basis (solving for our wavefunction as a function of $x$), so we can get the probability distribution over possible measurement outcomes directly from our wavefunction:\n",
    "\n",
    "$$ p(x) = |\\psi(x)|^2 $$\n",
    "\n",
    "where $p(x)$ is the probability density function of outcomes from position measurements."
   ]
  },
  {
   "cell_type": "code",
   "execution_count": null,
   "metadata": {},
   "outputs": [],
   "source": [
    "p = np.abs(vecs)**2"
   ]
  },
  {
   "cell_type": "markdown",
   "metadata": {},
   "source": [
    "To compute the probability form our probability density function, all we need is to multiply by $dx$, in our case we have already discretized our wire so $dx = a$.\n",
    "\n",
    "$$ \\mathrm{Prob}(x) = p(x) dx $$"
   ]
  },
  {
   "cell_type": "code",
   "execution_count": null,
   "metadata": {},
   "outputs": [],
   "source": [
    "probs = a*p"
   ]
  },
  {
   "cell_type": "code",
   "execution_count": null,
   "metadata": {},
   "outputs": [],
   "source": [
    "fig, axes = plt.subplots(5, sharex=True, sharey=True)\n",
    "plt.sca(axes[0])\n",
    "plt.title('Position distributions of a Particle in a box')\n",
    "for i, (ax, pd) in enumerate(zip(axes, p)):\n",
    "    plt.sca(ax)\n",
    "    plt.ylabel('p_{}(x)'.format(i))\n",
    "    plt.plot(X, pd)\n",
    "    plt.fill_between(X, pd, alpha=0.3)\n",
    "plt.xlabel('x')"
   ]
  },
  {
   "cell_type": "markdown",
   "metadata": {},
   "source": [
    "### Problem 2: Quantum Harmonic Oscillator\n",
    "\n",
    "Above is the code to compute and plot the 5 lowest energy states of a particle confined to a box from `-L/2` to `L/2`.\n",
    "Now do the same for a particle in a hamonic potential using the parameters given below. Please do not modify the code above, instead copy and paste anything you need below this cell.\n",
    "\n",
    "Remember, the potential energy of a harmonic oscillators takes the form $V(x) = kx^2$ where $k$ is the spring constant.\n",
    "In our case, let (using arbitrary units):\n",
    "$$ k = 0.01 $$\n",
    "$$ \\eta = 1 $$\n",
    "$$ L = 100 $$\n",
    "$$ m = 1 $$\n",
    "$$ q = 1 $$\n",
    "\n",
    "When plotting the energy spectrum of the solutions, once again predict what shape the spectrum should take, and then after plotting explain any differences to your prediction.\n",
    "\n",
    "Deliverables:\n",
    "- Plot of the energy spectrum (energy vs level)\n",
    "- Plot of the wavefunctions of the lowest 5 energy levels\n",
    "- Plot of the probability density functions of outcomes of position measurements for the lowest 5 energy levels"
   ]
  },
  {
   "cell_type": "markdown",
   "metadata": {},
   "source": [
    "[Your answer here (create new cells below this one as needed)"
   ]
  },
  {
   "cell_type": "markdown",
   "metadata": {},
   "source": [
    "### Problem 3: Harmonic Oscillator Frequencies\n",
    "\n",
    "Once you have the energies of the wavefunctions for the quantum harmonic oscillator, let's make sure they look right.\n",
    "We know the energy levels of the quantum harmonic oscillator states takes the form (see lecture notes for details):\n",
    "\n",
    "$$ E_n = \\eta \\omega (n + \\frac{1}{2}) $$\n",
    "\n",
    "where $n$ is the energy level, $\\eta$ is our natural constant ($\\eta = \\hbar$ in reality), and $\\omega$ is the frequency of our oscillator.\n",
    "\n",
    "You will note the ground state ($n=0$) still has some energy ($E_0=\\frac{\\eta \\omega}{2}$), this is called the zero point energy, and it carries some deep significance in physics. (Among other things, the zero point energy is related to virtual photons predicted by Quantum Field Theory, and possibly even the dark energy in the universe...)\n",
    "\n",
    "Anyway, use the computed energy values for the lowest 5 energy levels to estimate the frequency of our harmonic oscillator. Then use a smaller grid spacing (increase $N$) to make sure your estimate of the frequency has converged. (extra credit if you have quantitatively estimate the uncertainty)"
   ]
  }
 ],
 "metadata": {
  "kernelspec": {
   "display_name": "Python 3",
   "language": "python",
   "name": "python3"
  }
 },
 "nbformat": 4,
 "nbformat_minor": 2
}
