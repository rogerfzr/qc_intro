{
 "cells": [
  {
   "cell_type": "markdown",
   "metadata": {},
   "source": [
    "# Python Primer\n",
    "\n",
    "Python is a dynamic, scripting language ideal for high-level programming. We'll be using a several powerful packages for a few common scientific computing routines and simulating quantum circuits.\n",
    "\n",
    "But first, here's a guide to gettings things set up:"
   ]
  },
  {
   "cell_type": "markdown",
   "metadata": {},
   "source": [
    "## Installation\n",
    "\n",
    "These instructions work best on Ubuntu machines (and it's highly encouaged to use Ubuntu for the class). However, only very slight modifications are necessary for Mac and Windows.\n",
    "\n",
    "Once Anaconda and the necessary packages are installed, and you can get jupyter up and running, all the coding should be agnostic to the Operating System.\n",
    "\n",
    "1. Download the most recent Anaconda distribution (with python 3.x) from: `https://www.anaconda.com/download/`. Alternatively, on Ubuntu command line execute: `wget https://repo.continuum.io/archive/Anaconda3-2018.12-Linux-x86_64.sh`\n",
    "\n",
    "2. Install Anaconda distribution. On Ubuntu, run execute `sh Anaconda3-2018.12-Linux-x86_64.sh`\n",
    "\n",
    "3. In the directory of your choice, clone this git repo: `git clone https://github.com/fleeb24/qc_intro`\n",
    "\n",
    "4. In the cloned git repo create a virtual conda environment with python 3.6: `conda create -n qc python=3.6`"
   ]
  },
  {
   "cell_type": "code",
   "execution_count": null,
   "metadata": {},
   "outputs": [],
   "source": []
  }
 ],
 "metadata": {
  "kernelspec": {
   "display_name": "Python 3",
   "language": "python",
   "name": "python3"
  },
  "language_info": {
   "codemirror_mode": {
    "name": "ipython",
    "version": 3
   },
   "file_extension": ".py",
   "mimetype": "text/x-python",
   "name": "python",
   "nbconvert_exporter": "python",
   "pygments_lexer": "ipython3",
   "version": "3.6.7"
  }
 },
 "nbformat": 4,
 "nbformat_minor": 2
}
