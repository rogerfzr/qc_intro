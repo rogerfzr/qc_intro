{
 "cells": [
  {
   "cell_type": "markdown",
   "metadata": {},
   "source": [
    "# Python Primer\n",
    "\n",
    "Python is a dynamic, scripting language ideal for high-level programming. We'll be using a several powerful packages for a few common scientific computing routines and simulating quantum circuits.\n",
    "\n",
    "But first, here's a guide to gettings things setup. If any step fails, chances are you can find a solution online, so do a little investigating."
   ]
  },
  {
   "cell_type": "markdown",
   "metadata": {},
   "source": [
    "## Installation\n",
    "\n",
    "These instructions work best on Ubuntu machines (and it's highly encouaged to use Ubuntu for the class). However, only very slight modifications are necessary for Mac and Windows.\n",
    "\n",
    "Once Anaconda and the necessary packages are installed, and you can get jupyter up and running, all the coding should be agnostic to the Operating System.\n",
    "\n",
    "1. Download the most recent Anaconda distribution (with python 3.x) from: `https://www.anaconda.com/download/`. Alternatively, on Ubuntu command line execute: `wget https://repo.continuum.io/archive/Anaconda3-2018.12-Linux-x86_64.sh`\n",
    "\n",
    "2. Install Anaconda distribution. On Ubuntu, run `sh Anaconda3-2018.12-Linux-x86_64.sh`\n",
    "\n",
    "3. In the directory of your choice, clone this git repo: `git clone https://github.com/fleeb24/qc_intro`\n",
    "\n",
    "4. In the cloned git repo, create a virtual conda environment with python 3.6 and some of the required packages (`numpy`, `matplotlib`, `jupyter`, and `sympy`) by executing `conda create -n qc python=3.6 numpy matplotlib jupyter sympy` and complete the installation.\n",
    "\n",
    "5. Activate your conda environment with the command `source activate qc` (or `activate qc` for Windows).\n",
    "\n",
    "6. From inside your `qc` environment, execute `pip install qiskit` to install `qiskit`.\n",
    "\n",
    "7. Start a local jupyter server with the command: `jupyter notebook`. This should open the jupyter dashboard in your web browser. Alternatively, a link will be printed out in the terminal, which you can paste into your web browser to open the dashboard manually.\n",
    "\n",
    "8. From the jupyter dashboard open this notebook and start executing cells (using Shift+Enter)."
   ]
  },
  {
   "cell_type": "markdown",
   "metadata": {},
   "source": [
    "## Python Basics\n",
    "\n",
    "Python uses dynamic types, which means not only do you not have to explicitly declare types when creating variables, but you can also change the types anytime."
   ]
  },
  {
   "cell_type": "code",
   "execution_count": null,
   "metadata": {},
   "outputs": [],
   "source": [
    "s = 10\n",
    "print(s)\n",
    "print(s + 5)\n",
    "print(s * 2)\n",
    "print(s ** 2)"
   ]
  },
  {
   "cell_type": "code",
   "execution_count": null,
   "metadata": {},
   "outputs": [],
   "source": [
    "s = 'Hello World'\n",
    "print(s)"
   ]
  },
  {
   "cell_type": "markdown",
   "metadata": {},
   "source": [
    "If you're interested, there's quite a lot of cool stuff you can do with a very concise syntax in python."
   ]
  },
  {
   "cell_type": "code",
   "execution_count": null,
   "metadata": {},
   "outputs": [],
   "source": [
    "print(3 * s[:6])\n",
    "print(s[3:10:2]) # slicing - more on that later"
   ]
  },
  {
   "cell_type": "markdown",
   "metadata": {},
   "source": [
    "### Collections\n",
    "\n",
    "Python collections primarily come in four flavors: `list`s, `tuple`s, `set`s, and `dict`s.\n",
    "\n",
    "- `list` - mutable, indexable, iterable, ordered collection\n",
    "- `tuple` - immutable, indexable, iterable, ordered collection\n",
    "- `set` - mutable, unordered collection\n",
    "- `dict` - mutable, unordered mapping\n",
    "\n",
    "For any general questions, checkout the python documentation (`https://docs.python.org/3.6/tutorial/datastructures.html`), which is very well-written. For more specific questions, there's tons of help online (eg. Stack Overflow), or ask me."
   ]
  },
  {
   "cell_type": "code",
   "execution_count": null,
   "metadata": {},
   "outputs": [],
   "source": [
    "l = [1, 'ordered', 10.2, [5, 3]]\n",
    "print(l, l[0])\n",
    "t = (4, 'tuple is also ordered', -0.5, (2, 'nested'))\n",
    "print(t, t[-1][0])\n",
    "s = {100, 'unordered', 6.5}\n",
    "print(s, 'unordered' in s)\n",
    "d = {1.2:'value', 5:10, 'key':'value', 10:'map'}\n",
    "print(d, d['key'])"
   ]
  },
  {
   "cell_type": "markdown",
   "metadata": {},
   "source": [
    "### Control Flow\n",
    "\n",
    "All of the usual programming language keywords like `if`, `for`, and `while` are right at you're fingertips. You can also define you're own functions using the `def` keyword."
   ]
  },
  {
   "cell_type": "code",
   "execution_count": null,
   "metadata": {},
   "outputs": [],
   "source": [
    "xs = []\n",
    "x = 0.6 # initial condition\n",
    "r = 3.9 # parameter - try values between 3 and 4\n",
    "while len(xs) < 100: # Logistic map - chaos in one dimension - more info on wikipedia\n",
    "    x = x*(1-x)\n",
    "    x *= r # inplace multiplication\n",
    "    xs.append(x)"
   ]
  },
  {
   "cell_type": "code",
   "execution_count": null,
   "metadata": {},
   "outputs": [],
   "source": [
    "x_max, x_min = None, None # None is similar to null\n",
    "for x in xs:\n",
    "    if x_max is None or x > x_max:\n",
    "        x_max = x\n",
    "    elif x_min is None or x < x_min:\n",
    "        x_min = x\n",
    "max_ms = 'worked' if max(xs) == x_max else 'failed' # inline conditional\n",
    "min_ms = 'worked' if min(xs) == x_min else 'failed'\n",
    "print('Max computation {} - max is about {:.3f}'.format(max_ms, x_max))\n",
    "print('Min computation {} - min is about {:.3f}'.format(min_ms, x_min))"
   ]
  },
  {
   "cell_type": "markdown",
   "metadata": {},
   "source": [
    "### Interpreted language\n",
    "\n",
    "Python is not compiled, which means each line of code is read, interpreted, and executed without knowing anything about the rest of the script."
   ]
  },
  {
   "cell_type": "code",
   "execution_count": null,
   "metadata": {},
   "outputs": [],
   "source": [
    "def login(password, key=hash('password')): # python allows you to provide default values for arguments, see keyword arguments for more info\n",
    "    if hash(password) != key:\n",
    "        print('Divide by zero imminent ... ', end='')\n",
    "        return 100 / 0\n",
    "    print('Passed')\n",
    "    return 42"
   ]
  },
  {
   "cell_type": "code",
   "execution_count": null,
   "metadata": {},
   "outputs": [],
   "source": [
    "try:\n",
    "    login('hacker skills')\n",
    "except ZeroDivisionError as e:\n",
    "    print('That caused the following error:')\n",
    "    raise e # after some error handling, throw the error anyway so the user knows there's a problem"
   ]
  },
  {
   "cell_type": "markdown",
   "metadata": {},
   "source": [
    "Thankfully, python offers a convenient way to handle errors. Above you can see the full stacktrace and some helpful information about the error."
   ]
  },
  {
   "cell_type": "code",
   "execution_count": null,
   "metadata": {},
   "outputs": [],
   "source": [
    "answer = None\n",
    "hacker_intuition = {\"it's probably something lazy\", 'maybe with a tab character \\t', \n",
    "                    'or something to do with quantum computing', 'Schrödinger\\'s equation', \n",
    "                    'or his cat', 'no try something simple', 'asdf', 'qwerty', 'Password', \n",
    "                    'Password123', 'password'}\n",
    "while answer is None:\n",
    "    try:\n",
    "        guess = hacker_intuition.pop()\n",
    "        answer = login(guess)\n",
    "    except ZeroDivisionError as e:\n",
    "        print('<{}> failed'.format(guess))\n",
    "print('So the answer to the Ultimate Question of the universe is: {}'.format(answer))\n",
    "print('But what was the question?')"
   ]
  },
  {
   "cell_type": "code",
   "execution_count": null,
   "metadata": {},
   "outputs": [],
   "source": [
    "print('This is maybe cheating but...')\n",
    "login('anything', key=hash('anything'))\n",
    "print('Works too')"
   ]
  },
  {
   "cell_type": "markdown",
   "metadata": {},
   "source": [
    "## Numerical Python - `numpy`\n",
    "\n",
    "The convenience of python comes at a price - performance. As a result, using native python constructs such as `for` loops can be very inefficient. The (elegant and exceptionally powerful) solution is the package `numpy`."
   ]
  },
  {
   "cell_type": "code",
   "execution_count": null,
   "metadata": {},
   "outputs": [],
   "source": [
    "import numpy as np"
   ]
  },
  {
   "cell_type": "markdown",
   "metadata": {},
   "source": [
    "`numpy` provides many convenient functions for working with arrays, vectors, matrices, and arbitrary tensors."
   ]
  },
  {
   "cell_type": "code",
   "execution_count": null,
   "metadata": {},
   "outputs": [],
   "source": [
    "x = np.array([1,2,3,4])\n",
    "print(x)"
   ]
  },
  {
   "cell_type": "code",
   "execution_count": null,
   "metadata": {},
   "outputs": [],
   "source": [
    "print(x + 2)\n",
    "print(x * 2)\n",
    "print(x[1:-1]) # numpy arrays also allow slicing"
   ]
  },
  {
   "cell_type": "markdown",
   "metadata": {},
   "source": [
    "Slicing is is a way to index multiple values from an object. The format for slices are `a:b:c` where `a` is the starting index, `b` is the ending index (exclusive), and `c` is the step. \n",
    "Any of these values can be left out, in which case the default starting index is `0`, the default end is the end of the array, and the default step is `1`.\n",
    "Finally, negative index values choose elements in reverse order, such that `x[-1]` is the last element in the array."
   ]
  },
  {
   "cell_type": "code",
   "execution_count": null,
   "metadata": {},
   "outputs": [],
   "source": [
    "print('Shape: {}'.format(x.shape))"
   ]
  },
  {
   "cell_type": "markdown",
   "metadata": {},
   "source": [
    "All arrays have a shape showing the size of each dimension in the multi dimensional array.\n",
    "And this shape can also be changed using `reshape`.\n",
    "Indexing multi dimensional arrays is fairly intuitive, including slicing (there's a lot more advanced indexing options available, see `https://docs.scipy.org/doc/numpy/reference/arrays.indexing.html`)."
   ]
  },
  {
   "cell_type": "code",
   "execution_count": null,
   "metadata": {},
   "outputs": [],
   "source": [
    "x = x.reshape(1,4) # produces a row vector (which is default for 1-dim arrays)\n",
    "y = x.reshape(4,1) # produces a column vector\n",
    "print(x.shape, y.shape)\n",
    "print(x)\n",
    "print(y)\n",
    "print(x[0,1], y[1,0])"
   ]
  },
  {
   "cell_type": "markdown",
   "metadata": {},
   "source": [
    "Note, reshaping arrays does not copy them. However, applying operations does produce a new array."
   ]
  },
  {
   "cell_type": "code",
   "execution_count": null,
   "metadata": {},
   "outputs": [],
   "source": [
    "x[0,0] = 10\n",
    "print(x)\n",
    "print(y)\n",
    "x = x + 1\n",
    "print(x)\n",
    "print(y)"
   ]
  },
  {
   "cell_type": "code",
   "execution_count": null,
   "metadata": {},
   "outputs": [],
   "source": [
    "magic = x + y\n",
    "print('Adding an array of shape {} and {} produces an array of shape {}'.format(x.shape, y.shape, magic.shape))"
   ]
  },
  {
   "cell_type": "markdown",
   "metadata": {},
   "source": [
    "### Array construction\n",
    "\n",
    "There are several common ways to construct `numpy` arrays.\n",
    "\n",
    "- `array` - input a list (can be nested) of ints or floats.\n",
    "- `arange` - input an end and optionally a start and step, produces a sequence\n",
    "- `ones` - input desired shape, produces an array filled with ones.\n",
    "- `zeros` - input desired shape, produces an array filled with zeros.\n",
    "- `random.rand` - input desired shape, produces an array filled with samples from a uniform [0,1] distribution.\n",
    "- `random.randn` - input desired shape, produces an array filled with samples from a normal distribution."
   ]
  },
  {
   "cell_type": "code",
   "execution_count": null,
   "metadata": {},
   "outputs": [],
   "source": [
    "npxs = np.array(xs) # xs should contain the logistic map from earilier\n",
    "print(npxs.shape)\n",
    "samples = np.random.randn(10000)\n",
    "print(samples.shape)"
   ]
  },
  {
   "cell_type": "markdown",
   "metadata": {},
   "source": [
    "### Array operations\n",
    "\n",
    "Many of the basic operations with arrays are supported using the familiar operators (eg. `+`, `-`, `*`, `/`, `%`), but `numpy` also provides a plethora of other operations such as `sum`, `mean`, `std`, `sqrt`, etc.\n",
    "\n",
    "Generally, any operations performed on arrays using `numpy` functions are significantly faster than using native python `list`s and `for` loops. So it's definitely worth learning a little about broadcasting and vectorized operations (`https://docs.scipy.org/doc/numpy/user/basics.html`)."
   ]
  },
  {
   "cell_type": "code",
   "execution_count": null,
   "metadata": {},
   "outputs": [],
   "source": [
    "import time, math\n",
    "\n",
    "test = np.linspace(0, 2*np.pi, num=1000000)\n",
    "print('Applying sin to an array with len={}'.format(len(test)))\n",
    "\n",
    "start = time.time()\n",
    "for i in range(len(test)):\n",
    "    test[i] = math.sin(test[i])\n",
    "print('Native python took {:.4f} sec'.format(time.time() - start))\n",
    "\n",
    "start = time.time()\n",
    "test = np.sin(test)\n",
    "print('numpy took {:.4f} sec'.format(time.time() - start))"
   ]
  },
  {
   "cell_type": "markdown",
   "metadata": {},
   "source": [
    "### Linear Algebra\n",
    "\n",
    "While some common linear algebra functions are built into `numpy` directly, `numpy.linalg` provides a more comprehensive library."
   ]
  },
  {
   "cell_type": "code",
   "execution_count": null,
   "metadata": {},
   "outputs": [],
   "source": [
    "M = np.eye(10) # Identity matrix\n",
    "v = np.arange(10)\n",
    "print('Matrix multiplication: {}'.format(M @ v))"
   ]
  },
  {
   "cell_type": "code",
   "execution_count": null,
   "metadata": {},
   "outputs": [],
   "source": [
    "R = np.random.randn(6,6)\n",
    "S,V,D = np.linalg.svd(R)\n",
    "print('Singular values: {}'.format(V))"
   ]
  },
  {
   "cell_type": "code",
   "execution_count": null,
   "metadata": {},
   "outputs": [],
   "source": [
    "M = np.arange(16).reshape(4,4) + np.eye(4)\n",
    "vals, vecs = np.linalg.eig(M)\n",
    "print('Determinant: {}'.format(np.linalg.det(M)))\n",
    "print('Eigenvalues: {}'.format(vals))"
   ]
  },
  {
   "cell_type": "markdown",
   "metadata": {},
   "source": [
    "## Plotting with `matplotlib`\n",
    "\n",
    "Plotting and working with images would not be the same without `matplotlib`, which is designed to work perfectly with `numpy`. The `%matplotlib notebook` command makes plots interactive."
   ]
  },
  {
   "cell_type": "code",
   "execution_count": null,
   "metadata": {},
   "outputs": [],
   "source": [
    "%matplotlib notebook\n",
    "import matplotlib.pyplot as plt"
   ]
  },
  {
   "cell_type": "markdown",
   "metadata": {},
   "source": [
    "There are lots of ways to plot your data, but usually, you want to create a figure first using `figure`. Then you can plot using the `plot` function."
   ]
  },
  {
   "cell_type": "code",
   "execution_count": null,
   "metadata": {},
   "outputs": [],
   "source": [
    "plt.figure()\n",
    "X = np.arange(len(xs))\n",
    "plt.plot(xs, label='Logistic Map')\n",
    "plt.plot(X, np.sin(X*np.pi/len(X))**2, label='sin^2')\n",
    "plt.title('Plotting functions')\n",
    "plt.xlabel('Time')\n",
    "plt.ylabel('Value')\n",
    "plt.legend()"
   ]
  },
  {
   "cell_type": "markdown",
   "metadata": {},
   "source": [
    "You can also plot a histogram of your data using the `hist` function."
   ]
  },
  {
   "cell_type": "code",
   "execution_count": null,
   "metadata": {},
   "outputs": [],
   "source": [
    "plt.figure()\n",
    "plt.hist(samples, bins=50)\n",
    "plt.title('Histogram Normal Samples')\n",
    "plt.xlabel('Value')\n",
    "plt.ylabel('Counts')"
   ]
  },
  {
   "cell_type": "markdown",
   "metadata": {},
   "source": [
    "Just as with `numpy` this only scrapes the surface of what `matplotlib` can do. Overall, `matplotlib` is an extensive package allowing you to visualize anything from animations to 3D plots while still being able to customize every little detail with a couple lines of python. I highly encourage you look at a few examples `https://matplotlib.org/tutorials/index.html`."
   ]
  },
  {
   "cell_type": "markdown",
   "metadata": {},
   "source": [
    "## Interactive programming\n",
    "\n",
    "This notebook allows you code interactively. That means you can execute parts of a script (individual cells) which changing others. As you execute cells all the results update the overall state of the notebook."
   ]
  },
  {
   "cell_type": "code",
   "execution_count": null,
   "metadata": {},
   "outputs": [],
   "source": [
    "try:\n",
    "    foo # foo doesn't exist yet\n",
    "except NameError as e:\n",
    "    print('You haven\\'t defined \\'foo\\' yet. Try executing the cell below')\n",
    "else:\n",
    "    print('Well done')"
   ]
  },
  {
   "cell_type": "code",
   "execution_count": null,
   "metadata": {},
   "outputs": [],
   "source": [
    "foo = 'something'\n",
    "print('Now re-execute the cell above')"
   ]
  },
  {
   "cell_type": "code",
   "execution_count": null,
   "metadata": {},
   "outputs": [],
   "source": [
    "try:\n",
    "    will_this_work = 10\n",
    "    if_i_do_this = 0\n",
    "    print(will_this_work / if_i_do_this)\n",
    "except:\n",
    "    print('Something\\'s wrong, can you fix the code in this cell to avoid this error')\n",
    "else:\n",
    "    print('Well Done')"
   ]
  },
  {
   "cell_type": "markdown",
   "metadata": {},
   "source": [
    "You can also use the output of a cell execution. The `_` character holds the output of the last executed cell. But the output of any cell can also be indexed with `Out`, given the index."
   ]
  },
  {
   "cell_type": "code",
   "execution_count": null,
   "metadata": {},
   "outputs": [],
   "source": [
    "100 / 3"
   ]
  },
  {
   "cell_type": "code",
   "execution_count": null,
   "metadata": {},
   "outputs": [],
   "source": [
    "_ * 3"
   ]
  },
  {
   "cell_type": "markdown",
   "metadata": {},
   "source": [
    "Look at the index of the output above, for example, if it says `Out[31]: 100.0`, the output can be accessed using `Out[31]`"
   ]
  },
  {
   "cell_type": "code",
   "execution_count": null,
   "metadata": {},
   "outputs": [],
   "source": [
    "Out[31]"
   ]
  },
  {
   "cell_type": "markdown",
   "metadata": {},
   "source": [
    "You can access the documentation using `?` at then end of a function or class."
   ]
  },
  {
   "cell_type": "code",
   "execution_count": null,
   "metadata": {},
   "outputs": [],
   "source": [
    "print?"
   ]
  },
  {
   "cell_type": "code",
   "execution_count": null,
   "metadata": {},
   "outputs": [],
   "source": [
    "np.random.randn?"
   ]
  },
  {
   "cell_type": "code",
   "execution_count": null,
   "metadata": {},
   "outputs": [],
   "source": [
    "plt.plot?"
   ]
  },
  {
   "cell_type": "markdown",
   "metadata": {},
   "source": [
    "Another cool feature of jupyter notebooks is that you can use a bunch of special characters in your variables (eg. greek letters, underscores, exponents...).\n",
    "\n",
    "All these special characters begin with `\\` followed by the identifier of the character (similar to $\\LaTeX$), for example $\\alpha$ is `\\alpha`. After typing the name, press `tab` to convert the special character identifier into the character."
   ]
  },
  {
   "cell_type": "code",
   "execution_count": null,
   "metadata": {},
   "outputs": [],
   "source": [
    "\\alpha"
   ]
  },
  {
   "cell_type": "code",
   "execution_count": null,
   "metadata": {},
   "outputs": [],
   "source": [
    "α, β, γ = 100, 2, 6\n",
    "print(α + β ** γ)"
   ]
  },
  {
   "cell_type": "markdown",
   "metadata": {},
   "source": [
    "Jupyter provides a fairly powerful auto completion system. So if you're having trouble remembering what an attribute was called you can simply press `tab` while typing, and jupyter will suggest completions."
   ]
  },
  {
   "cell_type": "code",
   "execution_count": null,
   "metadata": {},
   "outputs": [],
   "source": [
    "Ψ, Θ = np.arange(3), np.ones(3)*10\n",
    "Ω1 = np.stack([Ψ, Θ], 0)\n",
    "print(Ω1)\n",
    "try:\n",
    "    Ω = np.con([Ψ, Θ])\n",
    "    print(Ω)\n",
    "except AttributeError:\n",
    "    print('Error: Try replacing \\'np.con\\' with the correct function call using auto-complete.')"
   ]
  },
  {
   "cell_type": "markdown",
   "metadata": {},
   "source": [
    "Aside from the interactive scripting, you can create cells that format text using markdown, and even format equations using $\\LaTeX$.\n",
    "\n",
    "If you are not familiar with $\\LaTeX$ (LaTeX), then I suggest you look into it a little (one especially convenient way to work with $\\LaTeX$ is Overleaf, `https://www.overleaf.com/`). \n",
    "\n",
    "For example, we'll be dealing with Schrödinger's equation soon, here's the time independent version in all its glory:\n",
    "\n",
    "$$ \\hat{\\mathbf{H}} \\psi(\\mathbf{r}) = E \\psi(\\mathbf{r}) $$\n",
    "\n",
    "where $ \\hat{\\mathbf{H}} = -\\frac{\\hbar^2}{2m}\\nabla^2 + V(\\mathbf{r}) $ is the hamiltonian."
   ]
  },
  {
   "cell_type": "markdown",
   "metadata": {},
   "source": [
    "There's a lot of other powerful things you can do with jupyter and python. I highly encouage you look more into all of these tools!"
   ]
  }
 ],
 "metadata": {
  "kernelspec": {
   "display_name": "Python 3",
   "language": "python",
   "name": "python3"
  },
  "language_info": {
   "codemirror_mode": {
    "name": "ipython",
    "version": 3
   },
   "file_extension": ".py",
   "mimetype": "text/x-python",
   "name": "python",
   "nbconvert_exporter": "python",
   "pygments_lexer": "ipython3",
   "version": "3.6.7"
  }
 },
 "nbformat": 4,
 "nbformat_minor": 2
}
